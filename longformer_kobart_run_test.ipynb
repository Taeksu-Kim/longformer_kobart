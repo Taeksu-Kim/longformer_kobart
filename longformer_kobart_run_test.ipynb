{
  "nbformat": 4,
  "nbformat_minor": 0,
  "metadata": {
    "colab": {
      "name": "longformer_kobart_run_test.ipynb",
      "provenance": []
    },
    "kernelspec": {
      "name": "python3",
      "display_name": "Python 3"
    },
    "language_info": {
      "name": "python"
    }
  },
  "cells": [
    {
      "cell_type": "code",
      "metadata": {
        "colab": {
          "base_uri": "https://localhost:8080/"
        },
        "id": "o736cM7pab3D",
        "outputId": "594de9ad-00a5-471e-bdfc-a58fb4e35d48"
      },
      "source": [
        "!pip install transformers==4.3.3\n",
        "!git clone https://github.com/Taeksu-Kim/longformer_kobart.git\n",
        "!python /content/longformer_kobart/longformer_kobart.py --base_model='ainize/kobart-news' \\\n",
        "                                                        --save_model_to SAVE_MODEL_TO='test' \\\n",
        "                                                        --tokenizer_name_or_path='ainize/kobart-news' \\\n",
        "                                                        --attention_window=512 \\\n",
        "                                                        --max_pos=4104 \\\n",
        "                                                        --max_seq_len=4096"
      ],
      "execution_count": 1,
      "outputs": [
        {
          "output_type": "stream",
          "name": "stdout",
          "text": [
            "Collecting transformers==4.3.3\n",
            "  Downloading transformers-4.3.3-py3-none-any.whl (1.9 MB)\n",
            "\u001b[K     |████████████████████████████████| 1.9 MB 5.2 MB/s \n",
            "\u001b[?25hRequirement already satisfied: packaging in /usr/local/lib/python3.7/dist-packages (from transformers==4.3.3) (21.0)\n",
            "Requirement already satisfied: numpy>=1.17 in /usr/local/lib/python3.7/dist-packages (from transformers==4.3.3) (1.19.5)\n",
            "Collecting tokenizers<0.11,>=0.10.1\n",
            "  Downloading tokenizers-0.10.3-cp37-cp37m-manylinux_2_5_x86_64.manylinux1_x86_64.manylinux_2_12_x86_64.manylinux2010_x86_64.whl (3.3 MB)\n",
            "\u001b[K     |████████████████████████████████| 3.3 MB 50.3 MB/s \n",
            "\u001b[?25hCollecting sacremoses\n",
            "  Downloading sacremoses-0.0.46-py3-none-any.whl (895 kB)\n",
            "\u001b[K     |████████████████████████████████| 895 kB 37.9 MB/s \n",
            "\u001b[?25hRequirement already satisfied: importlib-metadata in /usr/local/lib/python3.7/dist-packages (from transformers==4.3.3) (4.8.1)\n",
            "Requirement already satisfied: regex!=2019.12.17 in /usr/local/lib/python3.7/dist-packages (from transformers==4.3.3) (2019.12.20)\n",
            "Requirement already satisfied: tqdm>=4.27 in /usr/local/lib/python3.7/dist-packages (from transformers==4.3.3) (4.62.3)\n",
            "Requirement already satisfied: filelock in /usr/local/lib/python3.7/dist-packages (from transformers==4.3.3) (3.3.0)\n",
            "Requirement already satisfied: requests in /usr/local/lib/python3.7/dist-packages (from transformers==4.3.3) (2.23.0)\n",
            "Requirement already satisfied: typing-extensions>=3.6.4 in /usr/local/lib/python3.7/dist-packages (from importlib-metadata->transformers==4.3.3) (3.7.4.3)\n",
            "Requirement already satisfied: zipp>=0.5 in /usr/local/lib/python3.7/dist-packages (from importlib-metadata->transformers==4.3.3) (3.6.0)\n",
            "Requirement already satisfied: pyparsing>=2.0.2 in /usr/local/lib/python3.7/dist-packages (from packaging->transformers==4.3.3) (2.4.7)\n",
            "Requirement already satisfied: chardet<4,>=3.0.2 in /usr/local/lib/python3.7/dist-packages (from requests->transformers==4.3.3) (3.0.4)\n",
            "Requirement already satisfied: certifi>=2017.4.17 in /usr/local/lib/python3.7/dist-packages (from requests->transformers==4.3.3) (2021.5.30)\n",
            "Requirement already satisfied: idna<3,>=2.5 in /usr/local/lib/python3.7/dist-packages (from requests->transformers==4.3.3) (2.10)\n",
            "Requirement already satisfied: urllib3!=1.25.0,!=1.25.1,<1.26,>=1.21.1 in /usr/local/lib/python3.7/dist-packages (from requests->transformers==4.3.3) (1.24.3)\n",
            "Requirement already satisfied: joblib in /usr/local/lib/python3.7/dist-packages (from sacremoses->transformers==4.3.3) (1.0.1)\n",
            "Requirement already satisfied: six in /usr/local/lib/python3.7/dist-packages (from sacremoses->transformers==4.3.3) (1.15.0)\n",
            "Requirement already satisfied: click in /usr/local/lib/python3.7/dist-packages (from sacremoses->transformers==4.3.3) (7.1.2)\n",
            "Installing collected packages: tokenizers, sacremoses, transformers\n",
            "Successfully installed sacremoses-0.0.46 tokenizers-0.10.3 transformers-4.3.3\n",
            "Cloning into 'longformer_kobart'...\n",
            "remote: Enumerating objects: 61, done.\u001b[K\n",
            "remote: Counting objects: 100% (61/61), done.\u001b[K\n",
            "remote: Compressing objects: 100% (59/59), done.\u001b[K\n",
            "remote: Total 61 (delta 18), reused 0 (delta 0), pack-reused 0\u001b[K\n",
            "Unpacking objects: 100% (61/61), done.\n",
            "DEBUG:filelock:Attempting to acquire lock 140464437111056 on /root/.cache/huggingface/transformers/e660c51051b3da3fc238efc362eb5f19289777552799a64c783009814d0d7954.a11ebb04664c067c8fe5ef8f8068b0f721263414a26058692f7b2e4ba2a1b342.lock\n",
            "DEBUG:filelock:Lock 140464437111056 acquired on /root/.cache/huggingface/transformers/e660c51051b3da3fc238efc362eb5f19289777552799a64c783009814d0d7954.a11ebb04664c067c8fe5ef8f8068b0f721263414a26058692f7b2e4ba2a1b342.lock\n",
            "Downloading: 100% 239/239 [00:00<00:00, 192kB/s]\n",
            "DEBUG:filelock:Attempting to release lock 140464437111056 on /root/.cache/huggingface/transformers/e660c51051b3da3fc238efc362eb5f19289777552799a64c783009814d0d7954.a11ebb04664c067c8fe5ef8f8068b0f721263414a26058692f7b2e4ba2a1b342.lock\n",
            "DEBUG:filelock:Lock 140464437111056 released on /root/.cache/huggingface/transformers/e660c51051b3da3fc238efc362eb5f19289777552799a64c783009814d0d7954.a11ebb04664c067c8fe5ef8f8068b0f721263414a26058692f7b2e4ba2a1b342.lock\n",
            "DEBUG:filelock:Attempting to acquire lock 140464415313552 on /root/.cache/huggingface/transformers/e908d15c1b920f480e204ab416affb914a33cfd10d2268d67206117ed60347df.2bc17d5e8097a2027875f1b180cf99d315647a0f05681a60867d78f685de35e0.lock\n",
            "DEBUG:filelock:Lock 140464415313552 acquired on /root/.cache/huggingface/transformers/e908d15c1b920f480e204ab416affb914a33cfd10d2268d67206117ed60347df.2bc17d5e8097a2027875f1b180cf99d315647a0f05681a60867d78f685de35e0.lock\n",
            "Downloading: 100% 302/302 [00:00<00:00, 230kB/s]\n",
            "DEBUG:filelock:Attempting to release lock 140464415313552 on /root/.cache/huggingface/transformers/e908d15c1b920f480e204ab416affb914a33cfd10d2268d67206117ed60347df.2bc17d5e8097a2027875f1b180cf99d315647a0f05681a60867d78f685de35e0.lock\n",
            "DEBUG:filelock:Lock 140464415313552 released on /root/.cache/huggingface/transformers/e908d15c1b920f480e204ab416affb914a33cfd10d2268d67206117ed60347df.2bc17d5e8097a2027875f1b180cf99d315647a0f05681a60867d78f685de35e0.lock\n",
            "DEBUG:filelock:Attempting to acquire lock 140464415356240 on /root/.cache/huggingface/transformers/a7455a05a5113d7e15f7189a81638cac07808155448df1a6c8757662cd8669cb.0cc4dd63dc08a5bda343786ad4636233873b6af3779e201901af958e9321c8d5.lock\n",
            "DEBUG:filelock:Lock 140464415356240 acquired on /root/.cache/huggingface/transformers/a7455a05a5113d7e15f7189a81638cac07808155448df1a6c8757662cd8669cb.0cc4dd63dc08a5bda343786ad4636233873b6af3779e201901af958e9321c8d5.lock\n",
            "Downloading: 100% 682k/682k [00:00<00:00, 5.61MB/s]\n",
            "DEBUG:filelock:Attempting to release lock 140464415356240 on /root/.cache/huggingface/transformers/a7455a05a5113d7e15f7189a81638cac07808155448df1a6c8757662cd8669cb.0cc4dd63dc08a5bda343786ad4636233873b6af3779e201901af958e9321c8d5.lock\n",
            "DEBUG:filelock:Lock 140464415356240 released on /root/.cache/huggingface/transformers/a7455a05a5113d7e15f7189a81638cac07808155448df1a6c8757662cd8669cb.0cc4dd63dc08a5bda343786ad4636233873b6af3779e201901af958e9321c8d5.lock\n",
            "DEBUG:filelock:Attempting to acquire lock 140464415015120 on /root/.cache/huggingface/transformers/05db4041e9b93394aebebed4fa55b4f7b0666e41838dd880fcbe5a815189153e.ebd42f40eddbfeb18618bf92425480ef413072d5b7cd25dddb4ef693e491e4f5.lock\n",
            "DEBUG:filelock:Lock 140464415015120 acquired on /root/.cache/huggingface/transformers/05db4041e9b93394aebebed4fa55b4f7b0666e41838dd880fcbe5a815189153e.ebd42f40eddbfeb18618bf92425480ef413072d5b7cd25dddb4ef693e491e4f5.lock\n",
            "Downloading: 100% 1.45k/1.45k [00:00<00:00, 925kB/s]\n",
            "DEBUG:filelock:Attempting to release lock 140464415015120 on /root/.cache/huggingface/transformers/05db4041e9b93394aebebed4fa55b4f7b0666e41838dd880fcbe5a815189153e.ebd42f40eddbfeb18618bf92425480ef413072d5b7cd25dddb4ef693e491e4f5.lock\n",
            "DEBUG:filelock:Lock 140464415015120 released on /root/.cache/huggingface/transformers/05db4041e9b93394aebebed4fa55b4f7b0666e41838dd880fcbe5a815189153e.ebd42f40eddbfeb18618bf92425480ef413072d5b7cd25dddb4ef693e491e4f5.lock\n",
            "DEBUG:filelock:Attempting to acquire lock 140464415313616 on /root/.cache/huggingface/transformers/d63ddedf330fbd83c8c0727ae5b09ce822126d4419987b7323582731a44dbca9.a4687817623ce18ae67c6ab200a0856e40598fa010937daa8cd31c70a02fbe64.lock\n",
            "DEBUG:filelock:Lock 140464415313616 acquired on /root/.cache/huggingface/transformers/d63ddedf330fbd83c8c0727ae5b09ce822126d4419987b7323582731a44dbca9.a4687817623ce18ae67c6ab200a0856e40598fa010937daa8cd31c70a02fbe64.lock\n",
            "Downloading: 100% 496M/496M [00:10<00:00, 48.2MB/s]\n",
            "DEBUG:filelock:Attempting to release lock 140464415313616 on /root/.cache/huggingface/transformers/d63ddedf330fbd83c8c0727ae5b09ce822126d4419987b7323582731a44dbca9.a4687817623ce18ae67c6ab200a0856e40598fa010937daa8cd31c70a02fbe64.lock\n",
            "DEBUG:filelock:Lock 140464415313616 released on /root/.cache/huggingface/transformers/d63ddedf330fbd83c8c0727ae5b09ce822126d4419987b7323582731a44dbca9.a4687817623ce18ae67c6ab200a0856e40598fa010937daa8cd31c70a02fbe64.lock\n",
            "INFO:__main__:saving model to SAVE_MODEL_TO=test\n",
            "\n",
            "\n",
            "origin_text\n",
            "\n",
            " 국내 전반적인 경기침체로 상가 건물주의 수익도 전국적인 감소세를 보이고 있는 것으로 나타났다. 수익형 부동산 연구개발기업 상가정보연구소는 한국감정원 통계를 분석한 결과 전국 중대형 상가 순영업소득(부동산에서 발생하는 임대수입, 기타수입에서 제반 경비를 공제한 순소득)이 1분기 ㎡당 3만4200원에서 3분기 2만5800원으로 감소했다고 17일 밝혔다. 수도권, 세종시, 지방광역시에서 순영업소득이 가장 많이 감소한 지역은 3분기 1만3100원을 기록한 울산으로, 1분기 1만9100원 대비 31.4% 감소했다. 이어 대구(-27.7%), 서울(-26.9%), 광주(-24.9%), 부산(-23.5%), 세종(-23.4%), 대전(-21%), 경기(-19.2%), 인천(-18.5%) 순으로 감소했다. 지방 도시의 경우도 비슷했다. 경남의 3분기 순영업소득은 1만2800원으로 1분기 1만7400원 대비 26.4% 감소했으며 제주(-25.1%), 경북(-24.1%), 충남(-20.9%), 강원(-20.9%), 전남(-20.1%), 전북(-17%), 충북(-15.3%) 등도 감소세를 보였다. 조현택 상가정보연구소 연구원은 \"올해 내수 경기의 침체된 분위기가 유지되며 상가, 오피스 등을 비롯한 수익형 부동산 시장의 분위기도 경직된 모습을 보였고 오피스텔, 지식산업센터 등의 수익형 부동산 공급도 증가해 공실의 위험도 늘었다\"며 \"실제 올 3분기 전국 중대형 상가 공실률은 11.5%를 기록하며 1분기 11.3% 대비 0.2% 포인트 증가했다\"고 말했다. 그는 \"최근 소셜커머스(SNS를 통한 전자상거래), 음식 배달 중개 애플리케이션, 중고 물품 거래 애플리케이션 등의 사용 증가로 오프라인 매장에 영향을 미쳤다\"며 \"향후 지역, 콘텐츠에 따른 상권 양극화 현상은 심화될 것으로 보인다\"고 덧붙였다.\n",
            "\n",
            "input ids size:  torch.Size([1, 4096])\n",
            "\n",
            "\n",
            "summary text\n",
            "\n",
            " 국내형 상가정보연구소는 최근 소셜커머스, 음식 배달 중개 애플리케이션, 중고 물품 거래 애플리케이션 등의 사용 증가로 인해 전국 중대형 상가 순영업소득이  1분기 m2당 3만4200원에서 3분기 2만5800원으로 감소했다고 17일 밝혔으며, 앞으로 지역, 콘텐츠에 따른 상권 양극화 현상이 심화될 것으로 보인다고 덧붙였다.\n"
          ]
        }
      ]
    }
  ]
}